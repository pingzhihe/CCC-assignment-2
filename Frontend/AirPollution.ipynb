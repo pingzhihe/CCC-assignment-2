{
 "cells": [
  {
   "cell_type": "code",
   "execution_count": null,
   "metadata": {},
   "outputs": [],
   "source": [
    "import json\n",
    "import requests\n",
    "import pandas as pd"
   ]
  },
  {
   "cell_type": "code",
   "execution_count": null,
   "metadata": {},
   "outputs": [],
   "source": [
    "# Repeat to run this block of code until there is no error message printed\n",
    "response = requests.get(\"http://127.0.0.1:9090/EPA/air-quality-death\")\n",
    "if response.status_code == 200:\n",
    "    data = response.json().get('data')\n",
    "else:\n",
    "    print(response.text)"
   ]
  },
  {
   "cell_type": "markdown",
   "metadata": {},
   "source": [
    "Average values of polutions in Public Health Network (PHN) areas in Victoria "
   ]
  },
  {
   "cell_type": "code",
   "execution_count": null,
   "metadata": {},
   "outputs": [],
   "source": [
    "import seaborn as sns\n",
    "import matplotlib.pyplot as plt\n",
    "df = pd.json_normalize(data) \n",
    "\n",
    "\n",
    "features = ['Particles', 'PM2.5', 'PM10', 'Visibility', 'API', 'O3', 'NO2', 'SO2', 'CO']\n",
    "\n",
    "\n",
    "for feature in features:\n",
    "    df[feature+'_mean'] = df[feature].apply(lambda x: sum(filter(None, x))/len(x) if isinstance(x, list) and any(x) else None)\n",
    "\n",
    "# Delete the original feature columns\n",
    "df.drop(columns=features, inplace=True)\n",
    "df.dropna(how='all', subset=df.columns[5:], inplace=True)\n",
    "df.drop(columns=['_id'],inplace=True)\n",
    "\n",
    "phn_codes = list(df['phn_code'])\n",
    "df"
   ]
  },
  {
   "cell_type": "markdown",
   "metadata": {},
   "source": [
    "Visualize air quality index"
   ]
  },
  {
   "cell_type": "code",
   "execution_count": null,
   "metadata": {},
   "outputs": [],
   "source": [
    "import pandas as pd\n",
    "import matplotlib.pyplot as plt\n",
    "import numpy as np\n",
    "df = pd.json_normalize(data) \n",
    "\n",
    "features = ['Particles', 'PM2.5', 'PM10', 'Visibility', 'API', 'O3', 'NO2', 'SO2', 'CO']\n",
    "fig, axes = plt.subplots(3, 3, figsize=(15, 3 * 5), constrained_layout=True)\n",
    "df.replace('None', np.nan, inplace=True)\n",
    "\n",
    "# Make a line graph for each air pollutant\n",
    "for idx, feature in enumerate(features):\n",
    "    ax = axes[idx // 3, idx % 3]\n",
    "    for row_idx, row in df.iterrows():\n",
    "        if isinstance(row[feature], list) and row['phn_code'] in phn_codes:  \n",
    "            ax.plot(range(len(row[feature])), row[feature], label=row['phn_name'])\n",
    "    ax.set_title(f'{feature} Over Time')\n",
    "    ax.set_xlabel('Time')\n",
    "    ax.set_ylabel(feature)\n",
    "    ax.legend()\n",
    "\n",
    "plt.show()"
   ]
  },
  {
   "cell_type": "markdown",
   "metadata": {},
   "source": [
    "Analyse the relationship between respiratory disease death ratio and air pollutants"
   ]
  },
  {
   "cell_type": "code",
   "execution_count": null,
   "metadata": {},
   "outputs": [],
   "source": [
    "import pandas as pd\n",
    "import matplotlib.pyplot as plt\n",
    "import numpy as np\n",
    "\n",
    "\n",
    "df = pd.json_normalize(data)\n",
    "\n",
    "features = ['PM2.5', 'PM10', 'O3', 'NO2', 'SO2', 'CO']\n",
    "fig, axes = plt.subplots(2, 3, figsize=(15, 10), constrained_layout=True)\n",
    "df.replace('None', np.nan, inplace=True)\n",
    "\n",
    "# create a maapping of phn_code and phn_name\n",
    "phn_code_to_name = {row['phn_code']: row['phn_name'] for _, row in df.iterrows()}\n",
    "\n",
    "for idx, feature in enumerate(features):\n",
    "    ax = axes[idx // 3, idx % 3]\n",
    "    for phn_code in phn_codes:\n",
    "        region_data = df[df['phn_code'] == phn_code]\n",
    "        all_pollution_values = []\n",
    "        all_death_ratios = []\n",
    "\n",
    "        for row_idx, row in region_data.iterrows():\n",
    "            if isinstance(row[feature], list):\n",
    "                # Filter out the None values\n",
    "                pollution_values = [value for value in row[feature] if value is not None]\n",
    "                # make a death ratio lists with the same length of pollution_values\n",
    "                death_ratios = [row['resp_death_ratio']] * len(pollution_values)\n",
    "\n",
    "                all_pollution_values.extend(pollution_values)\n",
    "                all_death_ratios.extend(death_ratios)\n",
    "\n",
    "        valid_indices = [i for i, x in enumerate(all_pollution_values) if np.isfinite(x) and np.isfinite(all_death_ratios[i])]\n",
    "        all_pollution_values = [all_pollution_values[i] for i in valid_indices]\n",
    "        all_death_ratios = [all_death_ratios[i] for i in valid_indices]\n",
    "\n",
    "        # Draw the scatter plot\n",
    "        phn_name = phn_code_to_name.get(phn_code, 'Unknown')  \n",
    "        ax.scatter(all_pollution_values, all_death_ratios, label=phn_name)\n",
    "    \n",
    "    ax.set_title(f'{feature} vs. Respiratory Death Ratio')\n",
    "    ax.set_xlabel(feature)\n",
    "    ax.set_ylabel('Respiratory System Disease Death Ratio')\n",
    "    ax.legend(title=\"Region\")\n",
    "\n",
    "plt.show()\n"
   ]
  },
  {
   "cell_type": "markdown",
   "metadata": {},
   "source": [
    "Correlation matrix to analyse the relativity of different pollutant with the respiratory system mortality"
   ]
  },
  {
   "cell_type": "code",
   "execution_count": null,
   "metadata": {},
   "outputs": [],
   "source": [
    "import seaborn as sns\n",
    "import matplotlib.pyplot as plt\n",
    "df = pd.json_normalize(data) \n",
    "\n",
    "\n",
    "features = ['Particles', 'PM2.5', 'PM10', 'Visibility', 'API', 'O3', 'NO2', 'SO2', 'CO']\n",
    "pollutant_features = ['PM2.5', 'PM10', 'O3', 'NO2', 'SO2', 'CO']\n",
    "\n",
    "# make all the values in the list be seperate columns in the dataframe\n",
    "for feature in pollutant_features:\n",
    "    df = pd.concat([df, df[feature].apply(pd.Series).add_prefix(feature+'_')], axis=1)\n",
    "\n",
    "# Drop the original columns of featuers\n",
    "df.drop(columns=features, inplace=True)\n",
    "\n",
    "df = df.dropna(subset=df.columns[4:], how='all')\n",
    "\n",
    "df = df.drop(columns=['_id','phn_code', 'phn_name','lung_death_ratio'])\n",
    "correlation_matrix = df.corr()\n",
    "# Draw the correlation matrix\n",
    "plt.figure(figsize=(5, 10))\n",
    "sns.heatmap(correlation_matrix[['resp_death_ratio']], annot=False, cmap=\"coolwarm\", fmt=\".2f\", linewidths=0.5)\n",
    "plt.title(\"Correlation Matrix with respiratory system disease death ratio\")\n",
    "plt.show()\n",
    "\n"
   ]
  },
  {
   "cell_type": "markdown",
   "metadata": {},
   "source": [
    "Analyse the relationship between lung cancer death ratio and the air pollutants"
   ]
  },
  {
   "cell_type": "code",
   "execution_count": null,
   "metadata": {},
   "outputs": [],
   "source": [
    "import pandas as pd\n",
    "import matplotlib.pyplot as plt\n",
    "import numpy as np\n",
    "\n",
    "\n",
    "df = pd.json_normalize(data)  \n",
    "\n",
    "features = ['PM2.5', 'PM10', 'O3', 'NO2', 'SO2', 'CO']\n",
    "fig, axes = plt.subplots(2, 3, figsize=(15, 10), constrained_layout=True)\n",
    "df.replace('None', np.nan, inplace=True)\n",
    "\n",
    "# create a mapping of phn_code and phn_name \n",
    "phn_code_to_name = {row['phn_code']: row['phn_name'] for _, row in df.iterrows()}\n",
    "\n",
    "for idx, feature in enumerate(features):\n",
    "    ax = axes[idx // 3, idx % 3]\n",
    "    for phn_code in phn_codes:\n",
    "        region_data = df[df['phn_code'] == phn_code]\n",
    "        for row_idx, row in region_data.iterrows():\n",
    "            if isinstance(row[feature], list):  \n",
    "                y_values = [row['lung_death_ratio']] * len(row[feature])\n",
    "                phn_name = phn_code_to_name.get(phn_code, 'Unknown')  \n",
    "                ax.scatter(row[feature], y_values, label=phn_name)\n",
    "    \n",
    "    # Draw the scatter plot for each air pollutant\n",
    "    ax.set_title(f'{feature} vs lung cancer death ratio')\n",
    "    ax.set_xlabel(feature)\n",
    "    ax.set_ylabel('Lung Cancer Death Ratio')\n",
    "    ax.legend(title=\"Region\")\n",
    "\n",
    "plt.show()\n"
   ]
  },
  {
   "cell_type": "code",
   "execution_count": null,
   "metadata": {},
   "outputs": [],
   "source": [
    "import seaborn as sns\n",
    "import matplotlib.pyplot as plt\n",
    "df = pd.json_normalize(data) \n",
    "\n",
    "\n",
    "features = ['Particles', 'PM2.5', 'PM10', 'Visibility', 'API', 'O3', 'NO2', 'SO2', 'CO']\n",
    "\n",
    "pollutant_features = ['PM2.5', 'PM10', 'O3', 'NO2', 'SO2', 'CO']\n",
    "\n",
    "\n",
    "for feature in pollutant_features:\n",
    "    # make all the values in the list be seperate columns in the dataframe\n",
    "    df = pd.concat([df, df[feature].apply(pd.Series).add_prefix(feature+'_')], axis=1)\n",
    "\n",
    "\n",
    "# Drop the original columns of features\n",
    "df.drop(columns=features, inplace=True)\n",
    "\n",
    "df = df.dropna(subset=df.columns[4:], how='all')\n",
    "\n",
    "df = df.drop(columns=['_id','phn_code', 'phn_name','resp_death_ratio'])\n",
    "correlation_matrix = df.corr()\n",
    "\n",
    "# Draw the correlation matrix\n",
    "plt.figure(figsize=(5, 10))\n",
    "sns.heatmap(correlation_matrix[['lung_death_ratio']], annot=False, cmap=\"coolwarm\", fmt=\".2f\", linewidths=0.5)\n",
    "plt.title(\"Correlation Matrix with lung cancer death ratio\")\n",
    "plt.show()\n",
    "\n"
   ]
  }
 ],
 "metadata": {
  "kernelspec": {
   "display_name": "Python 3",
   "language": "python",
   "name": "python3"
  },
  "language_info": {
   "codemirror_mode": {
    "name": "ipython",
    "version": 3
   },
   "file_extension": ".py",
   "mimetype": "text/x-python",
   "name": "python",
   "nbconvert_exporter": "python",
   "pygments_lexer": "ipython3",
   "version": "3.12.2"
  }
 },
 "nbformat": 4,
 "nbformat_minor": 2
}
